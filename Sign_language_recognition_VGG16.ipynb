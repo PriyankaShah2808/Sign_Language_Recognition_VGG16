{
  "cells": [
    {
      "cell_type": "code",
      "execution_count": null,
      "metadata": {
        "id": "8icaE0ek6m3A"
      },
      "outputs": [],
      "source": [
        "import keras\n",
        "from keras.applications.vgg16 import VGG16\n",
        "# from keras.applications.resnet50 import ResNet50\n",
        "# from keras.applications.vgg19 import VGG19\n",
        "from keras.models import Model\n",
        "from keras.preprocessing import image\n",
        "from keras.layers import Input, Lambda ,Dense ,Flatten ,Dropout\n",
        "import numpy as np\n",
        "import tensorflow as tf\n",
        "import matplotlib.pyplot as plt\n",
        "%matplotlib inline\n",
        "import os\n",
        "import cv2"
      ]
    },
    {
      "cell_type": "code",
      "execution_count": null,
      "metadata": {
        "id": "FQ1xdG2h7RPw"
      },
      "outputs": [],
      "source": [
        "train_dir = \"/content/drive/MyDrive/ASL/ASL_dataset/training_set\"\n",
        "eval_dir = \"/content/drive/MyDrive/ASL/ASL_dataset/test_set\""
      ]
    },
    {
      "cell_type": "code",
      "execution_count": null,
      "metadata": {
        "id": "oVVU_2Gc7xPD"
      },
      "outputs": [],
      "source": [
        "#Helper function to load images from given directories\n",
        "def load_images(directory):\n",
        "    images = []\n",
        "    labels = []\n",
        "    for idx, label in enumerate(uniq_labels):\n",
        "        for file in os.listdir(directory + \"/\" + label):\n",
        "            filepath = directory + \"/\" + label + \"/\" + file\n",
        "            image = cv2.resize(cv2.imread(filepath), (64, 64))\n",
        "            images.append(image)\n",
        "            labels.append(idx)\n",
        "    images = np.array(images)\n",
        "    labels = np.array(labels)\n",
        "    return(images, labels)"
      ]
    },
    {
      "cell_type": "code",
      "execution_count": null,
      "metadata": {
        "id": "oKoh51Fl8nFC"
      },
      "outputs": [],
      "source": [
        "uniq_labels = sorted(os.listdir(train_dir))\n",
        "images, labels = load_images(directory = train_dir)\n",
        "\n",
        "if uniq_labels == sorted(os.listdir(eval_dir)):\n",
        "    X_eval, y_eval = load_images(directory = eval_dir)"
      ]
    },
    {
      "cell_type": "code",
      "execution_count": null,
      "metadata": {
        "colab": {
          "base_uri": "https://localhost:8080/"
        },
        "id": "td2ksfDx8uXB",
        "outputId": "ed7eb018-3c53-417e-997b-fa7d82a96081"
      },
      "outputs": [
        {
          "data": {
            "text/plain": [
              "60352"
            ]
          },
          "execution_count": 6,
          "metadata": {},
          "output_type": "execute_result"
        }
      ],
      "source": [
        "len(images)"
      ]
    },
    {
      "cell_type": "code",
      "execution_count": null,
      "metadata": {
        "colab": {
          "base_uri": "https://localhost:8080/"
        },
        "id": "4fpAbTXyHSUF",
        "outputId": "77b0d71c-5110-497d-90e5-8867c3e54864"
      },
      "outputs": [
        {
          "name": "stdout",
          "output_type": "stream",
          "text": [
            "Total number of symbols:  40\n",
            "Number of training images:  48281\n",
            "Number of testing images:  12071\n",
            "Number of evaluation images:  8000\n"
          ]
        }
      ],
      "source": [
        "from sklearn.model_selection import train_test_split\n",
        "\n",
        "X_train, X_test, y_train, y_test = train_test_split(images, labels, test_size = 0.2, stratify = labels)\n",
        "\n",
        "n = len(uniq_labels)\n",
        "train_n = len(X_train)\n",
        "test_n = len(X_test)\n",
        "\n",
        "print(\"Total number of symbols: \", n)\n",
        "print(\"Number of training images: \" , train_n)\n",
        "print(\"Number of testing images: \", test_n)\n",
        "\n",
        "eval_n = len(X_eval)\n",
        "print(\"Number of evaluation images: \", eval_n)"
      ]
    },
    {
      "cell_type": "code",
      "execution_count": null,
      "metadata": {
        "colab": {
          "base_uri": "https://localhost:8080/"
        },
        "id": "iUOihkhNHeUz",
        "outputId": "40b6985e-a684-413d-b485-60bafdad5949"
      },
      "outputs": [
        {
          "data": {
            "text/plain": [
              "['1',\n",
              " '10',\n",
              " '2',\n",
              " '3',\n",
              " '4',\n",
              " '5',\n",
              " '6',\n",
              " '7',\n",
              " '8',\n",
              " '9',\n",
              " 'A',\n",
              " 'B',\n",
              " 'C',\n",
              " 'D',\n",
              " 'E',\n",
              " 'F',\n",
              " 'G',\n",
              " 'H',\n",
              " 'I',\n",
              " 'J',\n",
              " 'K',\n",
              " 'L',\n",
              " 'M',\n",
              " 'N',\n",
              " 'O',\n",
              " 'P',\n",
              " 'Q',\n",
              " 'R',\n",
              " 'S',\n",
              " 'T',\n",
              " 'U',\n",
              " 'V',\n",
              " 'W',\n",
              " 'X',\n",
              " 'Y',\n",
              " 'Z',\n",
              " 'best of luck',\n",
              " 'fuck you',\n",
              " 'i love you',\n",
              " 'space']"
            ]
          },
          "execution_count": 8,
          "metadata": {},
          "output_type": "execute_result"
        }
      ],
      "source": [
        "uniq_labels"
      ]
    },
    {
      "cell_type": "code",
      "execution_count": null,
      "metadata": {
        "id": "WetZSM-sHk_y"
      },
      "outputs": [],
      "source": [
        "# one hot encoding\n",
        "y_train = keras.utils.to_categorical(y_train)\n",
        "y_test = keras.utils.to_categorical(y_test)\n",
        "y_eval = keras.utils.to_categorical(y_eval)"
      ]
    },
    {
      "cell_type": "code",
      "execution_count": null,
      "metadata": {
        "colab": {
          "base_uri": "https://localhost:8080/"
        },
        "id": "8m4RXHFlH95z",
        "outputId": "a2a7f60e-fa8d-4a26-eb1b-89ff1749e22c"
      },
      "outputs": [
        {
          "name": "stdout",
          "output_type": "stream",
          "text": [
            "[0. 0. 0. 0. 0. 0. 0. 0. 0. 0. 0. 0. 0. 0. 0. 0. 0. 0. 0. 0. 0. 0. 0. 0.\n",
            " 1. 0. 0. 0. 0. 0. 0. 0. 0. 0. 0. 0. 0. 0. 0. 0.]\n",
            "40\n"
          ]
        }
      ],
      "source": [
        "print(y_train[1])\n",
        "print(len(y_train[1]))"
      ]
    },
    {
      "cell_type": "code",
      "execution_count": null,
      "metadata": {
        "id": "EIU6Q1ajIB-y"
      },
      "outputs": [],
      "source": [
        "X_train = X_train.astype('float32')/255.0\n",
        "X_test = X_test.astype('float32')/255.0\n",
        "X_eval = X_eval.astype('float32')/255.0"
      ]
    },
    {
      "cell_type": "code",
      "execution_count": null,
      "metadata": {
        "colab": {
          "base_uri": "https://localhost:8080/"
        },
        "id": "hC7_cBbpIQOC",
        "outputId": "93526afe-03d6-40f2-c2d0-830958c70ca8"
      },
      "outputs": [
        {
          "name": "stdout",
          "output_type": "stream",
          "text": [
            "Downloading data from https://storage.googleapis.com/tensorflow/keras-applications/vgg16/vgg16_weights_tf_dim_ordering_tf_kernels_notop.h5\n",
            "58889256/58889256 [==============================] - 0s 0us/step\n"
          ]
        }
      ],
      "source": [
        "#Initialising vgg16\n",
        "classifier_vgg16 = VGG16(input_shape= (64,64,3),include_top=False,weights='imagenet')"
      ]
    },
    {
      "cell_type": "code",
      "execution_count": null,
      "metadata": {
        "id": "yYhA2ikBIZLk"
      },
      "outputs": [],
      "source": [
        "#don't train existing weights for vgg16\n",
        "for layer in classifier_vgg16.layers:\n",
        "    layer.trainable = False"
      ]
    },
    {
      "cell_type": "code",
      "execution_count": null,
      "metadata": {
        "id": "li5dA5EBI34E"
      },
      "outputs": [],
      "source": [
        "classifier1 = classifier_vgg16.output #head mode\n",
        "classifier1 = Flatten()(classifier1) #adding layer of flatten\n",
        "classifier1 = Dense(units=256, activation='relu')(classifier1)\n",
        "classifier1 = Dropout(0.6)(classifier1)\n",
        "classifier1 = Dense(units=40, activation='softmax')(classifier1)\n",
        "\n",
        "model = Model(inputs = classifier_vgg16.input , outputs = classifier1)\n",
        "model.compile(optimizer='adam', loss='categorical_crossentropy', metrics=['accuracy'])"
      ]
    },
    {
      "cell_type": "code",
      "execution_count": null,
      "metadata": {
        "colab": {
          "base_uri": "https://localhost:8080/"
        },
        "id": "t1yHDIbDJISU",
        "outputId": "0ae645d6-fcb1-4e34-ae07-6be860e44096"
      },
      "outputs": [
        {
          "name": "stdout",
          "output_type": "stream",
          "text": [
            "Model: \"model\"\n",
            "_________________________________________________________________\n",
            " Layer (type)                Output Shape              Param #   \n",
            "=================================================================\n",
            " input_1 (InputLayer)        [(None, 64, 64, 3)]       0         \n",
            "                                                                 \n",
            " block1_conv1 (Conv2D)       (None, 64, 64, 64)        1792      \n",
            "                                                                 \n",
            " block1_conv2 (Conv2D)       (None, 64, 64, 64)        36928     \n",
            "                                                                 \n",
            " block1_pool (MaxPooling2D)  (None, 32, 32, 64)        0         \n",
            "                                                                 \n",
            " block2_conv1 (Conv2D)       (None, 32, 32, 128)       73856     \n",
            "                                                                 \n",
            " block2_conv2 (Conv2D)       (None, 32, 32, 128)       147584    \n",
            "                                                                 \n",
            " block2_pool (MaxPooling2D)  (None, 16, 16, 128)       0         \n",
            "                                                                 \n",
            " block3_conv1 (Conv2D)       (None, 16, 16, 256)       295168    \n",
            "                                                                 \n",
            " block3_conv2 (Conv2D)       (None, 16, 16, 256)       590080    \n",
            "                                                                 \n",
            " block3_conv3 (Conv2D)       (None, 16, 16, 256)       590080    \n",
            "                                                                 \n",
            " block3_pool (MaxPooling2D)  (None, 8, 8, 256)         0         \n",
            "                                                                 \n",
            " block4_conv1 (Conv2D)       (None, 8, 8, 512)         1180160   \n",
            "                                                                 \n",
            " block4_conv2 (Conv2D)       (None, 8, 8, 512)         2359808   \n",
            "                                                                 \n",
            " block4_conv3 (Conv2D)       (None, 8, 8, 512)         2359808   \n",
            "                                                                 \n",
            " block4_pool (MaxPooling2D)  (None, 4, 4, 512)         0         \n",
            "                                                                 \n",
            " block5_conv1 (Conv2D)       (None, 4, 4, 512)         2359808   \n",
            "                                                                 \n",
            " block5_conv2 (Conv2D)       (None, 4, 4, 512)         2359808   \n",
            "                                                                 \n",
            " block5_conv3 (Conv2D)       (None, 4, 4, 512)         2359808   \n",
            "                                                                 \n",
            " block5_pool (MaxPooling2D)  (None, 2, 2, 512)         0         \n",
            "                                                                 \n",
            " flatten (Flatten)           (None, 2048)              0         \n",
            "                                                                 \n",
            " dense (Dense)               (None, 256)               524544    \n",
            "                                                                 \n",
            " dropout (Dropout)           (None, 256)               0         \n",
            "                                                                 \n",
            " dense_1 (Dense)             (None, 40)                10280     \n",
            "                                                                 \n",
            "=================================================================\n",
            "Total params: 15,249,512\n",
            "Trainable params: 534,824\n",
            "Non-trainable params: 14,714,688\n",
            "_________________________________________________________________\n"
          ]
        }
      ],
      "source": [
        "model.summary()"
      ]
    },
    {
      "cell_type": "code",
      "execution_count": null,
      "metadata": {
        "colab": {
          "background_save": true,
          "base_uri": "https://localhost:8080/"
        },
        "id": "UEG-3YZYJLUj",
        "outputId": "192d4bb2-5ab2-46fd-ab94-4b59deafd8e7"
      },
      "outputs": [
        {
          "name": "stdout",
          "output_type": "stream",
          "text": [
            "Epoch 1/5\n",
            "755/755 [==============================] - 36s 32ms/step - loss: 0.2650 - accuracy: 0.9453 - val_loss: 0.0022 - val_accuracy: 0.9999\n",
            "Epoch 2/5\n",
            "755/755 [==============================] - 22s 29ms/step - loss: 0.0131 - accuracy: 0.9988 - val_loss: 7.7947e-04 - val_accuracy: 1.0000\n",
            "Epoch 3/5\n",
            "755/755 [==============================] - 22s 29ms/step - loss: 0.0061 - accuracy: 0.9994 - val_loss: 6.0219e-05 - val_accuracy: 1.0000\n",
            "Epoch 4/5\n",
            "755/755 [==============================] - 22s 30ms/step - loss: 0.0046 - accuracy: 0.9994 - val_loss: 3.1291e-05 - val_accuracy: 1.0000\n",
            "Epoch 5/5\n",
            "755/755 [==============================] - 23s 30ms/step - loss: 0.0053 - accuracy: 0.9989 - val_loss: 2.8293e-05 - val_accuracy: 1.0000\n"
          ]
        }
      ],
      "source": [
        "#fit the model\n",
        "#it will take some time to train\n",
        "history = model.fit(X_train, y_train, epochs =5, batch_size = 64,validation_data=(X_test,y_test))"
      ]
    },
    {
      "cell_type": "code",
      "execution_count": null,
      "metadata": {
        "colab": {
          "background_save": true
        },
        "id": "WHVkzdNUJbpE"
      },
      "outputs": [],
      "source": [
        "# Saving the model of vgg16\n",
        "model.save('model_vgg16.h5')"
      ]
    },
    {
      "cell_type": "code",
      "execution_count": null,
      "metadata": {
        "colab": {
          "background_save": true
        },
        "id": "vlYf1XkWN5EH",
        "outputId": "7ac48466-a29d-4bae-8fab-971092761a38"
      },
      "outputs": [
        {
          "name": "stdout",
          "output_type": "stream",
          "text": [
            "Accuracy for test images: 100.0 %\n",
            "Accuracy for evaluation images: 100.0 %\n"
          ]
        }
      ],
      "source": [
        "score = model.evaluate(x = X_test, y = y_test, verbose = 0)\n",
        "print('Accuracy for test images:', round(score[1]*100, 3), '%')\n",
        "score = model.evaluate(x = X_eval, y = y_eval, verbose = 0)\n",
        "print('Accuracy for evaluation images:', round(score[1]*100, 3), '%')"
      ]
    },
    {
      "cell_type": "code",
      "execution_count": null,
      "metadata": {
        "colab": {
          "background_save": true
        },
        "id": "9F8I_Cs4N_rU",
        "outputId": "caa14e4c-fea5-450a-ad85-e6b7cb2db051"
      },
      "outputs": [
        {
          "data": {
            "image/png": "[encoded data removed]",
            "text/plain": [
              "<Figure size 640x480 with 1 Axes>"
            ]
          },
          "metadata": {},
          "output_type": "display_data"
        }
      ],
      "source": [
        "#vgg16\n",
        "import matplotlib.pyplot as plt\n",
        "\n",
        "# summarize history for accuracy\n",
        "plt.plot(history.history['accuracy'])\n",
        "plt.plot(history.history['val_accuracy'])\n",
        "plt.title('model accuracy of vgg16')\n",
        "plt.ylabel('accuracy')\n",
        "plt.xlabel('epoch')\n",
        "plt.legend(['train', 'test'], loc='upper left')\n",
        "plt.show()\n"
      ]
    },
    {
      "cell_type": "code",
      "execution_count": null,
      "metadata": {
        "colab": {
          "background_save": true
        },
        "id": "FqRfJAQVOMA1",
        "outputId": "6f6d0a94-06bf-4100-c98f-51c555fb84a7"
      },
      "outputs": [
        {
          "data": {
            "image/png": "[encoded data removed]",
            "text/plain": [
              "<Figure size 640x480 with 1 Axes>"
            ]
          },
          "metadata": {},
          "output_type": "display_data"
        }
      ],
      "source": [
        "plt.plot(history.history['loss'])\n",
        "plt.plot(history.history['val_loss'])\n",
        "plt.title('model loss')\n",
        "plt.ylabel('loss')\n",
        "plt.xlabel('epoch')\n",
        "plt.legend(['train', 'test'], loc='upper left')\n",
        "plt.show()"
      ]
    },
    {
      "cell_type": "code",
      "execution_count": null,
      "metadata": {
        "colab": {
          "background_save": true
        },
        "id": "7D4a70d1OQQU"
      },
      "outputs": [],
      "source": [
        "y_test_pred = model.predict(X_test, batch_size = 64, verbose = 0)\n",
        "#plot_confusion_matrix(y_test, y_test_pred)"
      ]
    },
    {
      "cell_type": "code",
      "execution_count": null,
      "metadata": {
        "colab": {
          "background_save": true
        },
        "id": "3Vly3Qw0Obm1",
        "outputId": "8a3d7b58-4338-419c-d9f6-994a0d36e05b"
      },
      "outputs": [
        {
          "name": "stdout",
          "output_type": "stream",
          "text": [
            "1/1 [==============================] - 0s 320ms/step\n",
            "W\n"
          ]
        },
        {
          "data": {
            "image/png": "[encoded data removed]",
            "text/plain": [
              "<Figure size 640x480 with 1 Axes>"
            ]
          },
          "metadata": {},
          "output_type": "display_data"
        }
      ],
      "source": [
        "import numpy as np\n",
        "import keras.utils as image\n",
        "test_image = image.load_img('/content/drive/MyDrive/ASL/ASL_dataset/test_set/5/1.png',target_size=(64,64))\n",
        "plt.imshow(test_image)\n",
        "test_image = image.img_to_array(test_image)\n",
        "test_image = np.expand_dims(test_image, axis=0)\n",
        "result = model.predict(test_image)\n",
        "\n",
        "\n",
        "if result[0][0] == 1:\n",
        "    prediction = '1'\n",
        "elif result[0][1] == 1:\n",
        "    prediction = '10'\n",
        "elif result[0][2] == 1:\n",
        "    prediction = '2'\n",
        "elif result[0][3] == 1:\n",
        "    prediction = '3'\n",
        "elif result[0][4] == 1:\n",
        "    prediction = '4'\n",
        "elif result[0][5] == 1:\n",
        "    prediction = '5'\n",
        "elif result[0][6] == 1:\n",
        "    prediction = '6'\n",
        "elif result[0][7] == 1:\n",
        "    prediction = '7'\n",
        "elif result[0][8] == 1:\n",
        "    prediction = '8'\n",
        "elif result[0][9] == 1:\n",
        "    prediction = '9'\n",
        "elif result[0][10] == 1:\n",
        "    prediction = 'A'\n",
        "elif result[0][11] == 1:\n",
        "    prediction = 'B'\n",
        "elif result[0][12] == 1:\n",
        "    prediction = 'C'\n",
        "elif result[0][13] == 1:\n",
        "    prediction = 'D'\n",
        "elif result[0][14] == 1:\n",
        "    prediction = 'E'\n",
        "elif result[0][15] == 1:\n",
        "    prediction = 'F'\n",
        "elif result[0][16] == 1:\n",
        "    prediction = 'G'\n",
        "elif result[0][17] == 1:\n",
        "    prediction = 'H'\n",
        "elif result[0][18] == 1:\n",
        "    prediction = 'I'\n",
        "elif result[0][19] == 1:\n",
        "    prediction = 'J'\n",
        "elif result[0][20] == 1:\n",
        "    prediction = 'K'\n",
        "elif result[0][21] == 1:\n",
        "    prediction = 'L'\n",
        "elif result[0][22] == 1:\n",
        "    prediction = 'M'\n",
        "elif result[0][23] == 1:\n",
        "    prediction = 'N'\n",
        "elif result[0][24] == 1:\n",
        "    prediction = 'O'\n",
        "elif result[0][25] == 1:\n",
        "    prediction = 'P'\n",
        "elif result[0][26] == 1:\n",
        "    prediction = 'Q'\n",
        "elif result[0][27] == 1:\n",
        "    prediction = 'R'\n",
        "elif result[0][28] == 1:\n",
        "    prediction = 'S'\n",
        "elif result[0][29] == 1:\n",
        "    prediction = 'T'\n",
        "elif result[0][30] == 1:\n",
        "    prediction = 'U'\n",
        "elif result[0][31] == 1:\n",
        "    prediction = 'V'\n",
        "elif result[0][32] == 1:\n",
        "    prediction = 'W'\n",
        "elif result[0][33] == 1:\n",
        "    prediction = 'X'\n",
        "elif result[0][34] == 1:\n",
        "    prediction = 'Y'\n",
        "elif result[0][35] == 1:\n",
        "    prediction = 'Z'\n",
        "elif result[0][36] == 1:\n",
        "    prediction = 'best of luck'\n",
        "elif result[0][37] == 1:\n",
        "    prediction = 'fuck you'\n",
        "elif result[0][38] == 1:\n",
        "    prediction = 'i love you'\n",
        "else:\n",
        "    prediction = '  '\n",
        "\n",
        "print(prediction)"
      ]
    },
    {
      "cell_type": "code",
      "execution_count": null,
      "metadata": {
        "colab": {
          "background_save": true
        },
        "id": "Ru2dipeZO88U"
      },
      "outputs": [],
      "source": []
    }
  ],
  "metadata": {
    "accelerator": "GPU",
    "colab": {
      "provenance": []
    },
    "kernelspec": {
      "display_name": "Python 3",
      "name": "python3"
    },
    "language_info": {
      "name": "python"
    }
  },
  "nbformat": 4,
  "nbformat_minor": 0
}